{
 "cells": [
  {
   "cell_type": "code",
   "execution_count": 8,
   "metadata": {},
   "outputs": [],
   "source": [
    "import numpy as np \n",
    "import matplotlib.pyplot as plt"
   ]
  },
  {
   "cell_type": "code",
   "execution_count": 77,
   "metadata": {},
   "outputs": [],
   "source": [
    "class RegLin:\n",
    "    def __init__(self):\n",
    "        self.pendiente=0\n",
    "        self.intercepto=0\n",
    "    def regresion_lineal(self,x,y):\n",
    "        \"\"\"calcula la pendiente y el intercepto de la regresion lineal\"\"\"\n",
    "        n=len(x)\n",
    "        detM=n*sum(x*x)-sum(x)*sum(x)\n",
    "        detA=sum(y)*sum(x*x)-sum(x*y)*sum(x)\n",
    "        detB=n*sum(x*y)-sum(x)*sum(y)\n",
    "        a=detA/detM\n",
    "        b=detB/detM\n",
    "        self.pendiente=b\n",
    "        self.intercepto=a\n",
    "        return [a,b] \n",
    "    def graficar(self,x,y):\n",
    "        ycalc=x*self.pendiente+self.intercepto\n",
    "        plt.plot(x,y,'ro')\n",
    "        plt.plot(x,ycalc,'b--')\n",
    "        plt.xlabel(\"t (seg)\")\n",
    "        plt.ylabel(\"distancia (m)\")\n",
    "        plt.title(\"distancia vs tiempo\")\n",
    "        plt.show()"
   ]
  },
  {
   "cell_type": "code",
   "execution_count": 78,
   "metadata": {},
   "outputs": [],
   "source": [
    "def regresion_lineal(x,y):\n",
    "    n=len(x)\n",
    "    detM=n*sum(x*x)-sum(x)*sum(x)\n",
    "    detA=sum(y)*sum(x*x)-sum(x*y)*sum(x)\n",
    "    detB=n*sum(x*y)-sum(x)*sum(y)\n",
    "    a=detA/detM\n",
    "    b=detB/detM\n",
    "    return [a,b]"
   ]
  },
  {
   "cell_type": "code",
   "execution_count": 79,
   "metadata": {},
   "outputs": [
    {
     "data": {
      "text/plain": [
       "array([ 2.41125236,  7.47597789, 12.54070342, 17.60542895, 22.67015448,\n",
       "       27.73488002])"
      ]
     },
     "execution_count": 79,
     "metadata": {},
     "output_type": "execute_result"
    }
   ],
   "source": [
    "x=np.array([0,1,2,3,4,5])\n",
    "y=x*5+2+np.random.randn(6)*1\n",
    "reg=regresion_lineal(x,y)\n",
    "ycalc=x*reg[1]+reg[0]\n",
    "ycalc"
   ]
  },
  {
   "cell_type": "code",
   "execution_count": 80,
   "metadata": {},
   "outputs": [
    {
     "data": {
      "image/png": "[encoded data removed]",
      "text/plain": [
       "<Figure size 432x288 with 1 Axes>"
      ]
     },
     "metadata": {},
     "output_type": "display_data"
    }
   ],
   "source": [
    "plt.plot(x,y,'ro')\n",
    "plt.plot(x,ycalc, 'b--')\n",
    "plt.xlabel(\"t (seg)\")\n",
    "plt.ylabel(\"distancia (m)\")\n",
    "plt.title(\"distancia vs tiempo\")\n",
    "plt.show()"
   ]
  },
  {
   "cell_type": "code",
   "execution_count": 81,
   "metadata": {},
   "outputs": [
    {
     "data": {
      "image/png": "[encoded data removed]",
      "text/plain": [
       "<Figure size 432x288 with 1 Axes>"
      ]
     },
     "metadata": {},
     "output_type": "display_data"
    }
   ],
   "source": [
    "x=np.array([0,1,2,3,4,5])\n",
    "y=x*5+4+np.random.randn(6)\n",
    "\n",
    "reg=RegLin()\n",
    "reg.regresion_lineal(x,y)\n",
    "reg.graficar(x,y)"
   ]
  },
  {
   "cell_type": "code",
   "execution_count": 72,
   "metadata": {},
   "outputs": [
    {
     "data": {
      "text/plain": [
       "[4.0, 5.0]"
      ]
     },
     "execution_count": 72,
     "metadata": {},
     "output_type": "execute_result"
    }
   ],
   "source": [
    "x=np.array([0,1,2,3,4,5])\n",
    "y=x*5+4\n",
    "\n",
    "reg=RegLin()\n",
    "reg.regresion_lineal(x,y)"
   ]
  },
  {
   "cell_type": "code",
   "execution_count": 73,
   "metadata": {},
   "outputs": [
    {
     "data": {
      "text/plain": [
       "5.0"
      ]
     },
     "execution_count": 73,
     "metadata": {},
     "output_type": "execute_result"
    }
   ],
   "source": [
    "reg.pendiente"
   ]
  },
  {
   "cell_type": "code",
   "execution_count": 74,
   "metadata": {},
   "outputs": [
    {
     "data": {
      "text/plain": [
       "4.0"
      ]
     },
     "execution_count": 74,
     "metadata": {},
     "output_type": "execute_result"
    }
   ],
   "source": [
    "reg.intercepto"
   ]
  },
  {
   "cell_type": "code",
   "execution_count": null,
   "metadata": {},
   "outputs": [],
   "source": []
  },
  {
   "cell_type": "code",
   "execution_count": null,
   "metadata": {},
   "outputs": [],
   "source": []
  },
  {
   "cell_type": "code",
   "execution_count": null,
   "metadata": {},
   "outputs": [],
   "source": []
  }
 ],
 "metadata": {
  "kernelspec": {
   "display_name": "Python 3",
   "language": "python",
   "name": "python3"
  },
  "language_info": {
   "codemirror_mode": {
    "name": "ipython",
    "version": 3
   },
   "file_extension": ".py",
   "mimetype": "text/x-python",
   "name": "python",
   "nbconvert_exporter": "python",
   "pygments_lexer": "ipython3",
   "version": "3.6.5"
  }
 },
 "nbformat": 4,
 "nbformat_minor": 2
}
