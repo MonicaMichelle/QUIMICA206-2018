{
 "cells": [
  {
   "cell_type": "code",
   "execution_count": 1,
   "metadata": {},
   "outputs": [],
   "source": [
    "import numpy as np\n",
    "import matplotlib.pyplot as plt"
   ]
  },
  {
   "cell_type": "code",
   "execution_count": 18,
   "metadata": {},
   "outputs": [],
   "source": [
    "deltaS_NH3=227.829\n",
    "deltaH_NH3=-52.618*1000\n",
    "deltaS_N2=216.866\n",
    "deltaS_H2=155.606\n",
    "\n",
    "\n",
    "T=700            #T en kelvin\n",
    "pt=200           #presion en bares\n",
    "R=8.314          #J/K-mol"
   ]
  },
  {
   "cell_type": "code",
   "execution_count": 19,
   "metadata": {},
   "outputs": [
    {
     "name": "stdout",
     "output_type": "stream",
     "text": [
      "-212098.30000000002 -151806.2 -108924.2\n"
     ]
    }
   ],
   "source": [
    "uNH3_est=deltaH_NH3-T*deltaS_NH3\n",
    "uN2_est=deltaH_N2-T*deltaS_N2\n",
    "uH2_est=deltaH_H2-T*deltaS_H2\n",
    "print(uNH3_est,uN2_est,uH2_est)"
   ]
  },
  {
   "cell_type": "code",
   "execution_count": 22,
   "metadata": {},
   "outputs": [],
   "source": [
    "x=np.arange(0.001,1,0.001)\n",
    "n_NH3=2-2*x\n",
    "n_N2=x\n",
    "n_H2=3*x\n",
    "nt=2+2*x\n",
    "\n",
    "X_NH3=n_NH3/nt\n",
    "X_N2=n_N2/nt\n",
    "X_H2=n_H2/nt"
   ]
  },
  {
   "cell_type": "code",
   "execution_count": 25,
   "metadata": {},
   "outputs": [
    {
     "name": "stdout",
     "output_type": "stream",
     "text": [
      "[0.54]\n"
     ]
    },
    {
     "data": {
      "image/png": "[encoded data removed]",
      "text/plain": [
       "<Figure size 432x288 with 1 Axes>"
      ]
     },
     "metadata": {},
     "output_type": "display_data"
    }
   ],
   "source": [
    "uNH3=uNH3_est+R*T*np.log(X_NH3)+R*T*np.log(pt)\n",
    "uN2=uN2_est+R*T*np.log(X_N2)+R*T*np.log(pt)\n",
    "uH2=uH2_est+R*T*np.log(X_H2)+R*T*np.log(pt)\n",
    "uT=n_NH3*uNH3+n_N2*uN2+n_H2*uH2\n",
    "\n",
    "minimo=np.min(uT)\n",
    "n=np.where(minimo==uT)\n",
    "xeq=x[n]\n",
    "print(xeq)       #xeq= x en equilibrio\n",
    "\n",
    "\n",
    "plt.plot(x,uT)\n",
    "plt.xlabel(r'$\\xi$')\n",
    "plt.ylabel(r'$\\Delta G$ (J/MOL) ')\n",
    "plt.axvline(x=xeq,color=\"green\",linestyle=\"-.\")\n",
    "plt.show()"
   ]
  },
  {
   "cell_type": "code",
   "execution_count": 30,
   "metadata": {},
   "outputs": [
    {
     "name": "stdout",
     "output_type": "stream",
     "text": [
      "[5263.94610835]\n"
     ]
    }
   ],
   "source": [
    "pNH3=(2-(2*xeq))/(2+(2+xeq))*pt\n",
    "pN2=(xeq)/(2+(2+xeq))*pt\n",
    "pH2=(3*xeq)/(2+(2+xeq))*pt\n",
    "Kp=pN2*pH2**3/pNH3**2\n",
    "print(Kp)"
   ]
  },
  {
   "cell_type": "code",
   "execution_count": 29,
   "metadata": {},
   "outputs": [
    {
     "data": {
      "text/plain": [
       "0.009353713441156025"
      ]
     },
     "execution_count": 29,
     "metadata": {},
     "output_type": "execute_result"
    }
   ],
   "source": [
    "np.exp(-27190/(8.314*700))"
   ]
  },
  {
   "cell_type": "code",
   "execution_count": 35,
   "metadata": {},
   "outputs": [
    {
     "name": "stdout",
     "output_type": "stream",
     "text": [
      "11437.252446323717\n"
     ]
    }
   ],
   "source": [
    "xeq=0.54\n",
    "n_H2=3*xeq\n",
    "n_N2=xeq\n",
    "n_NH3=2-2*xeq\n",
    "nt=n_H2+n_N2+n_NH3\n",
    "pt=200\n",
    "\n",
    "pNH3=pt*n_NH3/nt\n",
    "pN2=pt*n_N2/nt\n",
    "pH2=pt*n_H2/nt\n",
    "\n",
    "Kp=pN2*pH2**3/pNH3**2\n",
    "print(Kp)"
   ]
  },
  {
   "cell_type": "code",
   "execution_count": null,
   "metadata": {},
   "outputs": [],
   "source": []
  }
 ],
 "metadata": {
  "kernelspec": {
   "display_name": "Python 3",
   "language": "python",
   "name": "python3"
  },
  "language_info": {
   "codemirror_mode": {
    "name": "ipython",
    "version": 3
   },
   "file_extension": ".py",
   "mimetype": "text/x-python",
   "name": "python",
   "nbconvert_exporter": "python",
   "pygments_lexer": "ipython3",
   "version": "3.6.5"
  }
 },
 "nbformat": 4,
 "nbformat_minor": 2
}
